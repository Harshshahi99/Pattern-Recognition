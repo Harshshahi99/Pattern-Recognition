{
 "cells": [
  {
   "cell_type": "markdown",
   "id": "fa991c83",
   "metadata": {},
   "source": [
    "# Loops and Iterations.\n"
   ]
  },
  {
   "cell_type": "markdown",
   "id": "ea12d2e6",
   "metadata": {},
   "source": [
    "# Display the prime numbers for the given interval of lower limit=1 and upper limit=100 using for loop."
   ]
  },
  {
   "cell_type": "code",
   "execution_count": 1,
   "id": "1fe13ae0",
   "metadata": {},
   "outputs": [
    {
     "name": "stdout",
     "output_type": "stream",
     "text": [
      "Enter the lower limit 1\n",
      "Enter the upper limit 10\n",
      "Prime numbers between 1 and 10 are:\n",
      "2\n",
      "3\n",
      "5\n",
      "7\n"
     ]
    }
   ],
   "source": [
    "lower=int(input(\"Enter the lower limit \"))\n",
    "upper=int(input(\"Enter the upper limit \"))\n",
    "print(\"Prime numbers between\", lower, \"and\", upper, \"are:\")\n",
    "\n",
    "for num in range(lower, upper + 1):\n",
    "   # all prime numbers are greater than 1\n",
    "   if num > 1:\n",
    "       for i in range(2, num):\n",
    "           if (num % i) == 0:\n",
    "               break\n",
    "       else:\n",
    "           print(num)"
   ]
  },
  {
   "cell_type": "markdown",
   "id": "08bfc2b7",
   "metadata": {},
   "source": [
    "# Print 5 rows of equally spaced stars in the shape of a traingle pattern using while loop."
   ]
  },
  {
   "cell_type": "markdown",
   "id": "097735e2",
   "metadata": {},
   "source": [
    "#Pointing Upward"
   ]
  },
  {
   "cell_type": "code",
   "execution_count": 2,
   "id": "9ed5bedf",
   "metadata": {},
   "outputs": [
    {
     "name": "stdout",
     "output_type": "stream",
     "text": [
      "Enter number of rows : 5\n",
      "* \n",
      "* * \n",
      "* * * \n",
      "* * * * \n",
      "* * * * * \n"
     ]
    }
   ],
   "source": [
    "n = int(input('Enter number of rows : '))\n",
    " \n",
    "i = 1\n",
    "while i <= n :\n",
    "    j = 1\n",
    "    while j <= i:\n",
    "        print(\"*\", end = \" \")\n",
    "        j += 1\n",
    "    print()\n",
    "    i += 1"
   ]
  },
  {
   "cell_type": "markdown",
   "id": "4ef16155",
   "metadata": {},
   "source": [
    "#Pointing Downward"
   ]
  },
  {
   "cell_type": "code",
   "execution_count": 6,
   "id": "f1c32bf9",
   "metadata": {},
   "outputs": [
    {
     "name": "stdout",
     "output_type": "stream",
     "text": [
      "Enter number of rows : 5\n",
      "* * * * * \n",
      "* * * * \n",
      "* * * \n",
      "* * \n",
      "* \n"
     ]
    }
   ],
   "source": [
    "n = int(input('Enter number of rows : '))\n",
    " \n",
    "i = 1\n",
    "while i <= n :\n",
    "    j = n\n",
    "    while j >= i:\n",
    "        print(\"*\", end = \" \")\n",
    "        j -= 1\n",
    "    print()\n",
    "    i += 1"
   ]
  }
 ],
 "metadata": {
  "kernelspec": {
   "display_name": "Python 3",
   "language": "python",
   "name": "python3"
  },
  "language_info": {
   "codemirror_mode": {
    "name": "ipython",
    "version": 3
   },
   "file_extension": ".py",
   "mimetype": "text/x-python",
   "name": "python",
   "nbconvert_exporter": "python",
   "pygments_lexer": "ipython3",
   "version": "3.8.8"
  }
 },
 "nbformat": 4,
 "nbformat_minor": 5
}
