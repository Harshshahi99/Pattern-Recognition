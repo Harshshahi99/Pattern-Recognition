{
 "cells": [
  {
   "cell_type": "markdown",
   "id": "cd22c879",
   "metadata": {},
   "source": [
    "# List Comprehension"
   ]
  },
  {
   "cell_type": "markdown",
   "id": "641e3bc1",
   "metadata": {},
   "source": [
    "# Find the square of odd number within the range from 1-11 using list comprehension."
   ]
  },
  {
   "cell_type": "code",
   "execution_count": 1,
   "id": "06ac701f",
   "metadata": {},
   "outputs": [
    {
     "name": "stdout",
     "output_type": "stream",
     "text": [
      "[1, 9, 25, 49, 81]\n"
     ]
    }
   ],
   "source": [
    "list  =  [x**2  for x in range (1, 11)if x % 2 == 1]\n",
    "print(list)\n",
    "     "
   ]
  },
  {
   "cell_type": "markdown",
   "id": "1f2be6fb",
   "metadata": {},
   "source": [
    "# Using list comprehension extract only unique number out off a list that contain repeating elements."
   ]
  },
  {
   "cell_type": "markdown",
   "id": "6d741d7a",
   "metadata": {},
   "source": [
    "for eg id a list is [4,4,3,3,2,2]\n",
    "than the output required is[4,3,2]"
   ]
  },
  {
   "cell_type": "code",
   "execution_count": 2,
   "id": "ee06a41a",
   "metadata": {},
   "outputs": [
    {
     "name": "stdout",
     "output_type": "stream",
     "text": [
      "[4, 3, 2]\n"
     ]
    }
   ],
   "source": [
    "list=[4,4,3,3,2,2]\n",
    "list1=[]\n",
    "[list1.append(x) for x in list if x not in list1]\n",
    "print(list1)"
   ]
  }
 ],
 "metadata": {
  "kernelspec": {
   "display_name": "Python 3",
   "language": "python",
   "name": "python3"
  },
  "language_info": {
   "codemirror_mode": {
    "name": "ipython",
    "version": 3
   },
   "file_extension": ".py",
   "mimetype": "text/x-python",
   "name": "python",
   "nbconvert_exporter": "python",
   "pygments_lexer": "ipython3",
   "version": "3.8.8"
  }
 },
 "nbformat": 4,
 "nbformat_minor": 5
}
