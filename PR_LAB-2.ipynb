{
 "cells": [
  {
   "cell_type": "markdown",
   "id": "15178bc2",
   "metadata": {},
   "source": [
    "# Write a program to find and print that a number is positive or negative using if  else."
   ]
  },
  {
   "cell_type": "code",
   "execution_count": 3,
   "id": "f01e86a3",
   "metadata": {},
   "outputs": [
    {
     "name": "stdout",
     "output_type": "stream",
     "text": [
      "Enter a number: 95\n",
      "Positive number\n"
     ]
    }
   ],
   "source": [
    "num = float(input(\"Enter a number: \"))\n",
    "if num > 0:\n",
    "   print(\"Positive number\")\n",
    "elif num == 0:\n",
    "   print(\"Zero\")\n",
    "else:\n",
    "   print(\"Negative number\")"
   ]
  },
  {
   "cell_type": "markdown",
   "id": "5f618f9c",
   "metadata": {},
   "source": [
    "# Write a program to find the largest number among three numbers."
   ]
  },
  {
   "cell_type": "code",
   "execution_count": 5,
   "id": "daed66bb",
   "metadata": {},
   "outputs": [
    {
     "name": "stdout",
     "output_type": "stream",
     "text": [
      "Enter the First number1\n",
      "Enter the Second number2\n",
      "Enter the Third  number3\n",
      "The largest number is 3\n"
     ]
    }
   ],
   "source": [
    "num1=int(input(\"Enter the First number\"))\n",
    "num2=int(input(\"Enter the Second number\"))\n",
    "num3=int(input(\"Enter the Third  number\"))\n",
    "\n",
    "\n",
    "if (num1 >= num2) and (num1 >= num3):\n",
    "   largest = num1\n",
    "elif (num2 >= num1) and (num2 >= num3):\n",
    "   largest = num2\n",
    "else:\n",
    "   largest = num3\n",
    "\n",
    "print(\"The largest number is\", largest)"
   ]
  }
 ],
 "metadata": {
  "kernelspec": {
   "display_name": "Python 3",
   "language": "python",
   "name": "python3"
  },
  "language_info": {
   "codemirror_mode": {
    "name": "ipython",
    "version": 3
   },
   "file_extension": ".py",
   "mimetype": "text/x-python",
   "name": "python",
   "nbconvert_exporter": "python",
   "pygments_lexer": "ipython3",
   "version": "3.8.8"
  }
 },
 "nbformat": 4,
 "nbformat_minor": 5
}
