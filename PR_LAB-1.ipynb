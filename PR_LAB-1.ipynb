{
 "cells": [
  {
   "cell_type": "markdown",
   "id": "a1dbf25f",
   "metadata": {},
   "source": [
    "# Create a List and Perform following Methods\n",
    "1.Insert()\n",
    "2.Remove()\n",
    "3.Append()\n",
    "4.Len()\n",
    "5.Pop()\n",
    "6.Clear()"
   ]
  },
  {
   "cell_type": "markdown",
   "id": "52ae1c39",
   "metadata": {},
   "source": [
    "# insert()"
   ]
  },
  {
   "cell_type": "code",
   "execution_count": 5,
   "id": "8772d7f5",
   "metadata": {},
   "outputs": [
    {
     "name": "stdout",
     "output_type": "stream",
     "text": [
      "[1, 2, 3, 4, 5, 6, 7, 8, 9]\n"
     ]
    }
   ],
   "source": [
    "list=[1,2,3,4,5,6,7,8]\n",
    "list.insert(9,9)\n",
    "print(list)"
   ]
  },
  {
   "cell_type": "markdown",
   "id": "84db45cb",
   "metadata": {},
   "source": [
    "# remove()"
   ]
  },
  {
   "cell_type": "code",
   "execution_count": 9,
   "id": "8f71ce39",
   "metadata": {},
   "outputs": [
    {
     "name": "stdout",
     "output_type": "stream",
     "text": [
      "[1, 2, 3, 4, 5, 6, 7, 8, 9, 10]\n"
     ]
    }
   ],
   "source": [
    "list=[1,2,3,4,5,6,7,8,9,10,11]\n",
    "list.remove(11)\n",
    "print(list)"
   ]
  },
  {
   "cell_type": "markdown",
   "id": "94ef6929",
   "metadata": {},
   "source": [
    "# append()"
   ]
  },
  {
   "cell_type": "code",
   "execution_count": 13,
   "id": "1e06ac59",
   "metadata": {},
   "outputs": [
    {
     "name": "stdout",
     "output_type": "stream",
     "text": [
      "['Harsh vikram', 'Shahi']\n"
     ]
    }
   ],
   "source": [
    "MyName=[\"Harsh vikram\"]\n",
    "MyName.append(\"Shahi\")\n",
    "print(MyName)\n"
   ]
  },
  {
   "cell_type": "markdown",
   "id": "1784a602",
   "metadata": {},
   "source": [
    "# len()"
   ]
  },
  {
   "cell_type": "code",
   "execution_count": 16,
   "id": "d4797761",
   "metadata": {},
   "outputs": [
    {
     "data": {
      "text/plain": [
       "10"
      ]
     },
     "execution_count": 16,
     "metadata": {},
     "output_type": "execute_result"
    }
   ],
   "source": [
    "list=[1,2,3,4,5,6,7,8,9,10]\n",
    "len(list)\n"
   ]
  },
  {
   "cell_type": "markdown",
   "id": "8694e0b6",
   "metadata": {},
   "source": [
    "# pop()"
   ]
  },
  {
   "cell_type": "code",
   "execution_count": 17,
   "id": "c7e94817",
   "metadata": {},
   "outputs": [
    {
     "name": "stdout",
     "output_type": "stream",
     "text": [
      "[10, 20, 40, 50]\n"
     ]
    }
   ],
   "source": [
    "list=[10,20,30,40,50]\n",
    "list.pop(2)\n",
    "print(list)"
   ]
  },
  {
   "cell_type": "markdown",
   "id": "3b3230e3",
   "metadata": {},
   "source": [
    "# clear()"
   ]
  },
  {
   "cell_type": "code",
   "execution_count": 18,
   "id": "36600c6e",
   "metadata": {},
   "outputs": [
    {
     "name": "stdout",
     "output_type": "stream",
     "text": [
      "[]\n"
     ]
    }
   ],
   "source": [
    "list=[1,2,3,4,5]\n",
    "list.clear()\n",
    "print(list)"
   ]
  }
 ],
 "metadata": {
  "kernelspec": {
   "display_name": "Python 3",
   "language": "python",
   "name": "python3"
  },
  "language_info": {
   "codemirror_mode": {
    "name": "ipython",
    "version": 3
   },
   "file_extension": ".py",
   "mimetype": "text/x-python",
   "name": "python",
   "nbconvert_exporter": "python",
   "pygments_lexer": "ipython3",
   "version": "3.8.8"
  }
 },
 "nbformat": 4,
 "nbformat_minor": 5
}
