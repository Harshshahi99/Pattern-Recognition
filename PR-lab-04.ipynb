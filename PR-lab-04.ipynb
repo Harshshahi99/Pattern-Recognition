{
 "cells": [
  {
   "cell_type": "markdown",
   "id": "57a8a7e4",
   "metadata": {},
   "source": [
    "# Q1.Use the string methods  rsplit() over any string \n"
   ]
  },
  {
   "cell_type": "markdown",
   "id": "08592cdc",
   "metadata": {},
   "source": [
    "# 1. Without the seperate parameter"
   ]
  },
  {
   "cell_type": "code",
   "execution_count": 1,
   "id": "5bcff7f2",
   "metadata": {},
   "outputs": [
    {
     "name": "stdout",
     "output_type": "stream",
     "text": [
      "['My', 'Name', 'is', 'Harsh', 'Vikram', 'Shahi']\n"
     ]
    }
   ],
   "source": [
    "str = \"My Name is Harsh Vikram Shahi\"  \n",
    "str2 = str.rsplit()  \n",
    "print(str2)  "
   ]
  },
  {
   "cell_type": "markdown",
   "id": "cc7c532a",
   "metadata": {},
   "source": [
    "# 2. With seperate parameter"
   ]
  },
  {
   "cell_type": "code",
   "execution_count": 9,
   "id": "6d0fc088",
   "metadata": {},
   "outputs": [
    {
     "name": "stdout",
     "output_type": "stream",
     "text": [
      "['D', 'hradun is a b', 'autiful city']\n"
     ]
    }
   ],
   "source": [
    "str = \"Dehradun is a beautiful city\"  \n",
    "str2 = str.rsplit('e')  \n",
    "print(str2)  \n"
   ]
  },
  {
   "cell_type": "markdown",
   "id": "1c58d3b4",
   "metadata": {},
   "source": [
    "#  3.With the maxplit parameter set firstly to 1 and then with 2."
   ]
  },
  {
   "cell_type": "code",
   "execution_count": 10,
   "id": "58c2ce9a",
   "metadata": {},
   "outputs": [
    {
     "name": "stdout",
     "output_type": "stream",
     "text": [
      "['Python is great for Machine Le', 'rning']\n",
      "['Python is great for M', 'chine Le', 'rning']\n"
     ]
    }
   ],
   "source": [
    "str = \"Python is great for Machine Learning\"  \n",
    "str2 = str.rsplit('a',1)  \n",
    "print(str2)  \n",
    "str2 = str.rsplit('a',2)  \n",
    "print(str2)  "
   ]
  },
  {
   "cell_type": "markdown",
   "id": "0860114f",
   "metadata": {},
   "source": [
    "# Q2.Use the string methods  split() over any string \n",
    "\n"
   ]
  },
  {
   "cell_type": "markdown",
   "id": "c8875d44",
   "metadata": {},
   "source": [
    "# 1. Without the seperate parameter"
   ]
  },
  {
   "cell_type": "code",
   "execution_count": 11,
   "id": "a8f841fe",
   "metadata": {},
   "outputs": [
    {
     "name": "stdout",
     "output_type": "stream",
     "text": [
      "['My', 'Name', 'is', 'Harsh', 'Vikram', 'Shahi']\n"
     ]
    }
   ],
   "source": [
    "str = \"My Name is Harsh Vikram Shahi\"  \n",
    "str2 = str.split()  \n",
    "print(str2)  "
   ]
  },
  {
   "cell_type": "markdown",
   "id": "4344cad6",
   "metadata": {},
   "source": [
    "# 2. With seperate parameter"
   ]
  },
  {
   "cell_type": "code",
   "execution_count": 12,
   "id": "f453fa24",
   "metadata": {},
   "outputs": [
    {
     "name": "stdout",
     "output_type": "stream",
     "text": [
      "['D', 'hradun is a b', 'autiful city']\n"
     ]
    }
   ],
   "source": [
    "str = \"Dehradun is a beautiful city\"  \n",
    "str2 = str.split('e')  \n",
    "print(str2)  "
   ]
  },
  {
   "cell_type": "markdown",
   "id": "d6f342de",
   "metadata": {},
   "source": [
    "# 3.With the maxplit parameter set firstly to 1 and then with 2."
   ]
  },
  {
   "cell_type": "code",
   "execution_count": 13,
   "id": "5aca5bca",
   "metadata": {},
   "outputs": [
    {
     "name": "stdout",
     "output_type": "stream",
     "text": [
      "['Python is gre', 't for Machine Learning']\n",
      "['Python is gre', 't for M', 'chine Learning']\n"
     ]
    }
   ],
   "source": [
    "str = \"Python is great for Machine Learning\"  \n",
    "str2 = str.split('a',1)  \n",
    "print(str2)  \n",
    "str2 = str.split('a',2)  \n",
    "print(str2)  "
   ]
  },
  {
   "cell_type": "markdown",
   "id": "edb2edd2",
   "metadata": {},
   "source": [
    "# use the string methods partition() and rpartition() over any string.Explore using different seperators other than white spaces.\n"
   ]
  },
  {
   "cell_type": "markdown",
   "id": "4c5aa593",
   "metadata": {},
   "source": [
    "partition()"
   ]
  },
  {
   "cell_type": "code",
   "execution_count": 14,
   "id": "5acc1a30",
   "metadata": {},
   "outputs": [
    {
     "name": "stdout",
     "output_type": "stream",
     "text": [
      "('How ', 'you', ' doing?')\n"
     ]
    }
   ],
   "source": [
    "str = 'How you doing?'\n",
    "print(str.partition('you'))"
   ]
  },
  {
   "cell_type": "markdown",
   "id": "4344cec9",
   "metadata": {},
   "source": [
    "rpartition()"
   ]
  },
  {
   "cell_type": "code",
   "execution_count": 15,
   "id": "49118840",
   "metadata": {},
   "outputs": [
    {
     "name": "stdout",
     "output_type": "stream",
     "text": [
      "('How you doing?Hope ', 'you', ' doing well!')\n"
     ]
    }
   ],
   "source": [
    "str = 'How you doing?Hope you doing well!'\n",
    "print(str.rpartition('you'))"
   ]
  },
  {
   "cell_type": "markdown",
   "id": "fe26f9f7",
   "metadata": {},
   "source": [
    "# Q3.Display the uses of string method"
   ]
  },
  {
   "cell_type": "markdown",
   "id": "fe502c1a",
   "metadata": {},
   "source": [
    "upper()"
   ]
  },
  {
   "cell_type": "code",
   "execution_count": 17,
   "id": "6798fece",
   "metadata": {},
   "outputs": [
    {
     "name": "stdout",
     "output_type": "stream",
     "text": [
      "I AM HARSH VIKRAM SHAHI\n"
     ]
    }
   ],
   "source": [
    "str = 'I am Harsh Vikram Shahi'\n",
    "print(str.upper())\n",
    "\n",
    "\n"
   ]
  },
  {
   "cell_type": "markdown",
   "id": "2c955047",
   "metadata": {},
   "source": [
    "lower()"
   ]
  },
  {
   "cell_type": "code",
   "execution_count": 18,
   "id": "2e9f4968",
   "metadata": {},
   "outputs": [
    {
     "name": "stdout",
     "output_type": "stream",
     "text": [
      "i am harsh vikram shahi\n"
     ]
    }
   ],
   "source": [
    "str = 'I am Harsh Vikram Shahi'\n",
    "print(str.lower())"
   ]
  },
  {
   "cell_type": "code",
   "execution_count": 19,
   "id": "035ef7c7",
   "metadata": {},
   "outputs": [
    {
     "name": "stdout",
     "output_type": "stream",
     "text": [
      "False\n",
      "True\n"
     ]
    }
   ],
   "source": [
    "str = 'Hello How You Doing?'\n",
    "print(str.islower())\n",
    "\n",
    "str = 'hello how you doing?'\n",
    "print(str.islower())\n",
    "\n"
   ]
  },
  {
   "cell_type": "code",
   "execution_count": 22,
   "id": "62e1bb45",
   "metadata": {},
   "outputs": [
    {
     "name": "stdout",
     "output_type": "stream",
     "text": [
      "True\n",
      "False\n"
     ]
    }
   ],
   "source": [
    "str = 'HELLO HOW YOU DOING?'\n",
    "print(str.isupper())\n",
    "\n",
    "str = 'hello how you doing?'\n",
    "print(str.isupper())\n",
    "\n"
   ]
  },
  {
   "cell_type": "markdown",
   "id": "ff27f49c",
   "metadata": {},
   "source": [
    "isalnum()"
   ]
  },
  {
   "cell_type": "code",
   "execution_count": 23,
   "id": "8bac9754",
   "metadata": {},
   "outputs": [
    {
     "name": "stdout",
     "output_type": "stream",
     "text": [
      "True\n",
      "False\n"
     ]
    }
   ],
   "source": [
    "str = \"abc123\"\n",
    "print(str.isalnum())\n",
    "\n",
    "str = \"abc@123\"\n",
    "print(str.isalnum())\n",
    "\n"
   ]
  },
  {
   "cell_type": "markdown",
   "id": "92db199e",
   "metadata": {},
   "source": [
    "# Q4.(b)Use the count string method to count all the occurrence of a substring within any original string as a whole."
   ]
  },
  {
   "cell_type": "code",
   "execution_count": 29,
   "id": "1b4435c4",
   "metadata": {},
   "outputs": [
    {
     "name": "stdout",
     "output_type": "stream",
     "text": [
      "3\n"
     ]
    }
   ],
   "source": [
    "string = \"harsh vikram shahi\"\n",
    "print(string.count(\"a\"))\n",
    "\n"
   ]
  },
  {
   "cell_type": "markdown",
   "id": "6ee10c38",
   "metadata": {},
   "source": [
    "# # Q4.(b)Use the count string method to count all the occurrence of a substring within only a portition of original string."
   ]
  },
  {
   "cell_type": "code",
   "execution_count": 28,
   "id": "092497f8",
   "metadata": {},
   "outputs": [
    {
     "name": "stdout",
     "output_type": "stream",
     "text": [
      "0\n",
      "2\n"
     ]
    }
   ],
   "source": [
    "string = \"code chef\"\n",
    "print(string.count(\"e\", 0, 3))\n",
    "\n",
    "print(string.count(\"e\", 0, 8))\n",
    "\n",
    "\n"
   ]
  }
 ],
 "metadata": {
  "kernelspec": {
   "display_name": "Python 3",
   "language": "python",
   "name": "python3"
  },
  "language_info": {
   "codemirror_mode": {
    "name": "ipython",
    "version": 3
   },
   "file_extension": ".py",
   "mimetype": "text/x-python",
   "name": "python",
   "nbconvert_exporter": "python",
   "pygments_lexer": "ipython3",
   "version": "3.8.8"
  }
 },
 "nbformat": 4,
 "nbformat_minor": 5
}
