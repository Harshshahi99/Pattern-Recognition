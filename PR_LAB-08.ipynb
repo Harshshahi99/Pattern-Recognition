{
 "cells": [
  {
   "cell_type": "markdown",
   "id": "d88a00a9",
   "metadata": {},
   "source": [
    "# Write an example for the usage of the following function?"
   ]
  },
  {
   "cell_type": "markdown",
   "id": "7497e449",
   "metadata": {},
   "source": [
    "# np.arrange"
   ]
  },
  {
   "cell_type": "code",
   "execution_count": 4,
   "id": "f6db9d31",
   "metadata": {},
   "outputs": [
    {
     "name": "stdout",
     "output_type": "stream",
     "text": [
      "[1 3 5 7 9]\n"
     ]
    }
   ],
   "source": [
    "import numpy as np\n",
    "\n",
    "# Printing all numbers from 1 to\n",
    "# 10 in steps of 2\n",
    "print(np.arange(1, 10, 2))\n",
    "\n"
   ]
  },
  {
   "cell_type": "markdown",
   "id": "db2eb97d",
   "metadata": {},
   "source": [
    "# np.linespace"
   ]
  },
  {
   "cell_type": "code",
   "execution_count": 5,
   "id": "ace981e3",
   "metadata": {},
   "outputs": [
    {
     "data": {
      "text/plain": [
       "(-0.2, 1.8)"
      ]
     },
     "execution_count": 5,
     "metadata": {},
     "output_type": "execute_result"
    },
    {
     "data": {
      "image/png": "[encoded data removed]",
      "text/plain": [
       "<Figure size 432x288 with 1 Axes>"
      ]
     },
     "metadata": {
      "needs_background": "light"
     },
     "output_type": "display_data"
    }
   ],
   "source": [
    "# Graphical Representation of numpy.linspace()\n",
    "import numpy as geek\n",
    "import pylab as p\n",
    "\n",
    "# Start = 0\n",
    "# End = 2\n",
    "# Samples to generate = 10\n",
    "x1 = geek.linspace(0, 2, 10, endpoint = False)\n",
    "y1 = geek.ones(10)\n",
    "\n",
    "p.plot(x1, y1, '*')\n",
    "p.xlim(-0.2, 1.8)\n",
    "\n"
   ]
  },
  {
   "cell_type": "markdown",
   "id": "b1259c6a",
   "metadata": {},
   "source": [
    "# np.randint"
   ]
  },
  {
   "cell_type": "code",
   "execution_count": 6,
   "id": "4aedd25c",
   "metadata": {},
   "outputs": [
    {
     "name": "stdout",
     "output_type": "stream",
     "text": [
      "Output 1D Array filled with random integers :  [1 2 0 1 2]\n"
     ]
    }
   ],
   "source": [
    "# Python program explaining\n",
    "# numpy.random.randint() function\n",
    "\n",
    "# importing numpy\n",
    "import numpy as geek\n",
    "\n",
    "# output array\n",
    "out_arr = geek.random.randint(low = 0, high = 3, size = 5)\n",
    "print (\"Output 1D Array filled with random integers : \", out_arr)\n",
    "\n"
   ]
  },
  {
   "cell_type": "markdown",
   "id": "8eee5ed3",
   "metadata": {},
   "source": [
    "# np.eye"
   ]
  },
  {
   "cell_type": "code",
   "execution_count": 7,
   "id": "ba4c99af",
   "metadata": {},
   "outputs": [
    {
     "name": "stdout",
     "output_type": "stream",
     "text": [
      "Matrix b : \n",
      " [[1. 0.]\n",
      " [0. 1.]]\n",
      "\n",
      "Matrix a : \n",
      " [[0. 0. 0. 0. 0.]\n",
      " [1. 0. 0. 0. 0.]\n",
      " [0. 1. 0. 0. 0.]\n",
      " [0. 0. 1. 0. 0.]]\n"
     ]
    }
   ],
   "source": [
    "# Python Programming illustrating\n",
    "# numpy.eye method\n",
    "\n",
    "import numpy as geek\n",
    "\n",
    "# 2x2 matrix with 1's on main diagonal\n",
    "b = geek.eye(2, dtype = float)\n",
    "print(\"Matrix b : \\n\", b)\n",
    "\n",
    "# matrix with R=4 C=5 and 1 on diagonal\n",
    "# below main diagonal\n",
    "a = geek.eye(4, 5, k = -1)\n",
    "print(\"\\nMatrix a : \\n\", a)\n",
    "\n"
   ]
  }
 ],
 "metadata": {
  "kernelspec": {
   "display_name": "Python 3",
   "language": "python",
   "name": "python3"
  },
  "language_info": {
   "codemirror_mode": {
    "name": "ipython",
    "version": 3
   },
   "file_extension": ".py",
   "mimetype": "text/x-python",
   "name": "python",
   "nbconvert_exporter": "python",
   "pygments_lexer": "ipython3",
   "version": "3.8.8"
  }
 },
 "nbformat": 4,
 "nbformat_minor": 5
}
