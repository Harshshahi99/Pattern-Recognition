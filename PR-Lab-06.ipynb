{
 "cells": [
  {
   "cell_type": "markdown",
   "id": "899f253f",
   "metadata": {},
   "source": [
    "#  Create a function that takes inputs of first name,last name,age of a user to store in a dictionary.Thereby greeting the user by his name.Also return the dictionary."
   ]
  },
  {
   "cell_type": "code",
   "execution_count": 1,
   "id": "fb7c1015",
   "metadata": {},
   "outputs": [
    {
     "name": "stdout",
     "output_type": "stream",
     "text": [
      "Enter your First nameHarsh Vikram\n",
      "Enter your last nameShahi\n",
      "Enter your age22\n",
      "Hello!! How you doing?\n",
      " My Name is: Harsh Vikram Shahi \n",
      "I am 22 old\n"
     ]
    }
   ],
   "source": [
    "def student(firstname, lastname,age):\n",
    "\tprint(\"Hello!! How you doing?\\n My Name is:\",firstname, lastname,\"\\nI am\" ,age,\"old\")\n",
    "\n",
    "student(firstname=input(\"Enter your First name\"), lastname=input(\"Enter your last name\"),age=input(\"Enter your age\"))\n"
   ]
  },
  {
   "cell_type": "markdown",
   "id": "3ac1bce3",
   "metadata": {},
   "source": [
    "#  Create a function to take an email id as a input and returns the domain name  extracted out from this email id."
   ]
  },
  {
   "cell_type": "code",
   "execution_count": 2,
   "id": "fd78cfee",
   "metadata": {},
   "outputs": [
    {
     "name": "stdout",
     "output_type": "stream",
     "text": [
      "Enter your mail\n",
      "harshvikramshahi@gmail.com\n",
      "Domain   :  gmail\n"
     ]
    }
   ],
   "source": [
    "def email_splitter(email):\n",
    "    username = email.split('@')[0]\n",
    "    domain = email.split('@')[1]\n",
    "    domain_name = domain.split('.')[0]\n",
    "    domain_type = domain.split('.')[1]\n",
    "    \n",
    "    #print('Username : ', username)\n",
    "    print('Domain   : ', domain_name)\n",
    "    #print('Type     : ', domain_type)\n",
    "\n",
    "mail=input(\"Enter your mail\\n\")\n",
    "email_splitter(mail)"
   ]
  }
 ],
 "metadata": {
  "kernelspec": {
   "display_name": "Python 3",
   "language": "python",
   "name": "python3"
  },
  "language_info": {
   "codemirror_mode": {
    "name": "ipython",
    "version": 3
   },
   "file_extension": ".py",
   "mimetype": "text/x-python",
   "name": "python",
   "nbconvert_exporter": "python",
   "pygments_lexer": "ipython3",
   "version": "3.8.8"
  }
 },
 "nbformat": 4,
 "nbformat_minor": 5
}
