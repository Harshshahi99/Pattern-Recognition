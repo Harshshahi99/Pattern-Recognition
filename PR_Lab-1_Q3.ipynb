{
 "cells": [
  {
   "cell_type": "markdown",
   "id": "99db9709",
   "metadata": {},
   "source": [
    "# Create a Tuple and perform the following methods.\n",
    "1.Add items.\n",
    "2.len().\n",
    "3.check if an item exist in tuple."
   ]
  },
  {
   "cell_type": "markdown",
   "id": "67d27e4d",
   "metadata": {},
   "source": [
    "# Add items."
   ]
  },
  {
   "cell_type": "code",
   "execution_count": 5,
   "id": "045539bb",
   "metadata": {},
   "outputs": [
    {
     "name": "stdout",
     "output_type": "stream",
     "text": [
      "(1, 2, 3, 4, 5, 6)\n"
     ]
    }
   ],
   "source": [
    "tuple=(1,2,3,4,5)\n",
    "tuple=tuple+(6,)\n",
    "print(tuple)"
   ]
  },
  {
   "cell_type": "markdown",
   "id": "f0bf7607",
   "metadata": {},
   "source": [
    "# len()."
   ]
  },
  {
   "cell_type": "code",
   "execution_count": 6,
   "id": "2bbc295c",
   "metadata": {},
   "outputs": [
    {
     "data": {
      "text/plain": [
       "3"
      ]
     },
     "execution_count": 6,
     "metadata": {},
     "output_type": "execute_result"
    }
   ],
   "source": [
    "tuple=('harsh','vikram','shahi')\n",
    "len(tuple)"
   ]
  },
  {
   "cell_type": "markdown",
   "id": "3c5be23d",
   "metadata": {},
   "source": [
    "# check if an item exist in tuple."
   ]
  },
  {
   "cell_type": "code",
   "execution_count": 13,
   "id": "209baad5",
   "metadata": {},
   "outputs": [
    {
     "name": "stdout",
     "output_type": "stream",
     "text": [
      "'shahi',exist in 'myname'\n"
     ]
    }
   ],
   "source": [
    "myname=('harsh','vikram','shahi')\n",
    "if \"shahi\" in myname:\n",
    " print(\"'shahi',exist in 'myname'\")\n",
    "else:\n",
    "    print('\"shahi\" does not exist' )"
   ]
  }
 ],
 "metadata": {
  "kernelspec": {
   "display_name": "Python 3",
   "language": "python",
   "name": "python3"
  },
  "language_info": {
   "codemirror_mode": {
    "name": "ipython",
    "version": 3
   },
   "file_extension": ".py",
   "mimetype": "text/x-python",
   "name": "python",
   "nbconvert_exporter": "python",
   "pygments_lexer": "ipython3",
   "version": "3.8.8"
  }
 },
 "nbformat": 4,
 "nbformat_minor": 5
}
