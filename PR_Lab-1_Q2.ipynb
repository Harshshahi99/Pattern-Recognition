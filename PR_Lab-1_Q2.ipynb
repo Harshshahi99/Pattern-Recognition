{
 "cells": [
  {
   "cell_type": "markdown",
   "id": "50dfe0a1",
   "metadata": {},
   "source": [
    "# Create a dictionary and apply following method\n",
    "1.Print a single dictionary item.\n",
    "2.Access the item using get().\n",
    "3.Change the value of any dictionary item.\n",
    "4.Use the len()."
   ]
  },
  {
   "cell_type": "markdown",
   "id": "46c968c1",
   "metadata": {},
   "source": [
    "# Print a single dictionary item."
   ]
  },
  {
   "cell_type": "code",
   "execution_count": 7,
   "id": "c8b63870",
   "metadata": {},
   "outputs": [
    {
     "name": "stdout",
     "output_type": "stream",
     "text": [
      "{'Name': 'Harsh Vikram Shahi', 'Roll No': 190410101030, 'Course': 'B.Tech', 'Year': '3rd'}\n"
     ]
    }
   ],
   "source": [
    "student={\n",
    "    \"Name\":\"Harsh Vikram Shahi\",\n",
    "        \"Roll No\":190410101030,\n",
    "        \"Course\":\"B.Tech\",\n",
    "         \"Year\":'3rd'}\n",
    "print(student)"
   ]
  },
  {
   "cell_type": "markdown",
   "id": "67229bee",
   "metadata": {},
   "source": [
    "# Access the item using get()."
   ]
  },
  {
   "cell_type": "code",
   "execution_count": 8,
   "id": "63113a26",
   "metadata": {},
   "outputs": [
    {
     "name": "stdout",
     "output_type": "stream",
     "text": [
      "190410101030\n"
     ]
    }
   ],
   "source": [
    "student={\n",
    "    \"Name\":\"Harsh Vikram Shahi\",\n",
    "        \"Roll No\":190410101030,\n",
    "        \"Course\":\"B.Tech\",\n",
    "         \"Year\":'3rd'}\n",
    "x=student.get(\"Roll No\")\n",
    "print(x)"
   ]
  },
  {
   "cell_type": "markdown",
   "id": "84a2108a",
   "metadata": {},
   "source": [
    "# Change the value of any dictionary item."
   ]
  },
  {
   "cell_type": "code",
   "execution_count": 10,
   "id": "a2e3daa1",
   "metadata": {},
   "outputs": [
    {
     "name": "stdout",
     "output_type": "stream",
     "text": [
      "{'Name': 'Harsh Vikram Shahi', 'Roll No': 190410101030, 'Course': 'B.Tech', 'Year': 'Fifth Semester'}\n"
     ]
    }
   ],
   "source": [
    "student={\n",
    "    \"Name\":\"Harsh Vikram Shahi\",\n",
    "        \"Roll No\":190410101030,\n",
    "        \"Course\":\"B.Tech\",\n",
    "         \"Year\":'3rd'}\n",
    "student.update({\"Year\":\"Fifth Semester\"})\n",
    "print(student)"
   ]
  },
  {
   "cell_type": "markdown",
   "id": "34fedd40",
   "metadata": {},
   "source": [
    "# Use the len()."
   ]
  },
  {
   "cell_type": "code",
   "execution_count": 11,
   "id": "01ee236e",
   "metadata": {},
   "outputs": [
    {
     "data": {
      "text/plain": [
       "4"
      ]
     },
     "execution_count": 11,
     "metadata": {},
     "output_type": "execute_result"
    }
   ],
   "source": [
    "student={\n",
    "    \"Name\":\"Harsh Vikram Shahi\",\n",
    "        \"Roll No\":190410101030,\n",
    "        \"Course\":\"B.Tech\",\n",
    "         \"Year\":'3rd'}\n",
    "len(student)"
   ]
  }
 ],
 "metadata": {
  "kernelspec": {
   "display_name": "Python 3",
   "language": "python",
   "name": "python3"
  },
  "language_info": {
   "codemirror_mode": {
    "name": "ipython",
    "version": 3
   },
   "file_extension": ".py",
   "mimetype": "text/x-python",
   "name": "python",
   "nbconvert_exporter": "python",
   "pygments_lexer": "ipython3",
   "version": "3.8.8"
  }
 },
 "nbformat": 4,
 "nbformat_minor": 5
}
